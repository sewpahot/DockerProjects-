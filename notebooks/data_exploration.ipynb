{
 "cells": [
  {
   "cell_type": "markdown",
   "id": "55acd908",
   "metadata": {},
   "source": [
    "# ML Project Data Exploration\n",
    "\n",
    "This notebook demonstrates the basic workflow of a machine learning project, including:\n",
    "1. Data loading and inspection\n",
    "2. Data preprocessing and cleaning\n",
    "3. Feature analysis and visualization\n",
    "4. Model training and evaluation\n",
    "\n",
    "Let's go through each step to understand the process."
   ]
  },
  {
   "cell_type": "code",
   "execution_count": null,
   "id": "6555ae7a",
   "metadata": {},
   "outputs": [],
   "source": [
    "# Import required libraries\n",
    "import numpy as np\n",
    "import pandas as pd\n",
    "import matplotlib.pyplot as plt\n",
    "import seaborn as sns\n",
    "from sklearn.model_selection import train_test_split\n",
    "from sklearn.preprocessing import StandardScaler\n",
    "from sklearn.linear_model import LogisticRegression\n",
    "from sklearn.metrics import accuracy_score, classification_report\n",
    "\n",
    "# Set up plotting style\n",
    "plt.style.use('seaborn')\n",
    "sns.set_theme()\n",
    "\n",
    "print(\"Libraries imported successfully!\")"
   ]
  },
  {
   "cell_type": "markdown",
   "id": "6caf19a3",
   "metadata": {},
   "source": [
    "## Creating Sample Data\n",
    "\n",
    "For this example, we'll create a simple synthetic dataset to demonstrate the ML workflow. In a real project, you would load your data from files in the `data/raw/` directory."
   ]
  },
  {
   "cell_type": "code",
   "execution_count": null,
   "id": "4f64a558",
   "metadata": {},
   "outputs": [],
   "source": [
    "# Create synthetic data\n",
    "np.random.seed(42)\n",
    "n_samples = 1000\n",
    "\n",
    "# Generate features\n",
    "X = np.random.randn(n_samples, 3)  # 3 features\n",
    "# Create a simple classification target\n",
    "y = (X[:, 0] + X[:, 1] - X[:, 2] > 0).astype(int)\n",
    "\n",
    "# Create a DataFrame\n",
    "feature_names = ['feature_1', 'feature_2', 'feature_3']\n",
    "df = pd.DataFrame(X, columns=feature_names)\n",
    "df['target'] = y\n",
    "\n",
    "print(\"Dataset shape:\", df.shape)\n",
    "print(\"\\nFirst few rows:\")\n",
    "df.head()"
   ]
  },
  {
   "cell_type": "markdown",
   "id": "12746981",
   "metadata": {},
   "source": [
    "## Data Analysis and Visualization\n",
    "\n",
    "Let's explore the data to understand its characteristics:"
   ]
  },
  {
   "cell_type": "code",
   "execution_count": null,
   "id": "2d9dace5",
   "metadata": {},
   "outputs": [],
   "source": [
    "# Basic statistics\n",
    "print(\"Basic statistics:\")\n",
    "print(df.describe())\n",
    "\n",
    "# Distribution plots\n",
    "plt.figure(figsize=(12, 4))\n",
    "for i, feature in enumerate(feature_names, 1):\n",
    "    plt.subplot(1, 3, i)\n",
    "    sns.histplot(data=df, x=feature, hue='target', multiple=\"stack\")\n",
    "    plt.title(f'{feature} Distribution by Target')\n",
    "plt.tight_layout()\n",
    "plt.show()\n",
    "\n",
    "# Correlation matrix\n",
    "plt.figure(figsize=(8, 6))\n",
    "sns.heatmap(df.corr(), annot=True, cmap='coolwarm', center=0)\n",
    "plt.title('Feature Correlation Matrix')\n",
    "plt.show()"
   ]
  },
  {
   "cell_type": "markdown",
   "id": "1669027e",
   "metadata": {},
   "source": [
    "## Model Training and Evaluation\n",
    "\n",
    "Now let's prepare the data for training, train a simple logistic regression model, and evaluate its performance:"
   ]
  },
  {
   "cell_type": "code",
   "execution_count": null,
   "id": "0fdc40b0",
   "metadata": {},
   "outputs": [],
   "source": [
    "# Prepare features and target\n",
    "X = df[feature_names]\n",
    "y = df['target']\n",
    "\n",
    "# Split the data\n",
    "X_train, X_test, y_train, y_test = train_test_split(X, y, test_size=0.2, random_state=42)\n",
    "print(\"Training set shape:\", X_train.shape)\n",
    "print(\"Testing set shape:\", X_test.shape)\n",
    "\n",
    "# Scale the features\n",
    "scaler = StandardScaler()\n",
    "X_train_scaled = scaler.fit_transform(X_train)\n",
    "X_test_scaled = scaler.transform(X_test)\n",
    "\n",
    "# Train the model\n",
    "model = LogisticRegression(random_state=42)\n",
    "model.fit(X_train_scaled, y_train)\n",
    "\n",
    "# Make predictions\n",
    "y_pred = model.predict(X_test_scaled)\n",
    "\n",
    "# Evaluate the model\n",
    "print(\"\\nModel Evaluation:\")\n",
    "print(\"Accuracy:\", accuracy_score(y_test, y_pred))\n",
    "print(\"\\nClassification Report:\")\n",
    "print(classification_report(y_test, y_pred))"
   ]
  },
  {
   "cell_type": "markdown",
   "id": "4723e9e0",
   "metadata": {},
   "source": [
    "## Feature Importance\n",
    "\n",
    "Let's examine which features are most important for our model:"
   ]
  },
  {
   "cell_type": "code",
   "execution_count": null,
   "id": "4be743c9",
   "metadata": {},
   "outputs": [],
   "source": [
    "# Plot feature importance\n",
    "importance = pd.DataFrame({\n",
    "    'feature': feature_names,\n",
    "    'importance': abs(model.coef_[0])\n",
    "})\n",
    "importance = importance.sort_values('importance', ascending=False)\n",
    "\n",
    "plt.figure(figsize=(8, 4))\n",
    "sns.barplot(data=importance, x='importance', y='feature')\n",
    "plt.title('Feature Importance')\n",
    "plt.xlabel('Absolute Coefficient Value')\n",
    "plt.tight_layout()\n",
    "plt.show()"
   ]
  }
 ],
 "metadata": {
  "language_info": {
   "name": "python"
  }
 },
 "nbformat": 4,
 "nbformat_minor": 5
}
